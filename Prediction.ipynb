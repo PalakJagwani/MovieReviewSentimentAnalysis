{
  "cells": [
    {
      "cell_type": "code",
      "execution_count": 1,
      "metadata": {
        "id": "WzvtLXcDb1dy"
      },
      "outputs": [],
      "source": [
        "import numpy as np\n",
        "import tensorflow as tf\n",
        "from tensorflow.keras.datasets import imdb\n",
        "from tensorflow.keras.preprocessing import sequence\n",
        "from tensorflow.keras.models import load_model"
      ]
    },
    {
      "cell_type": "code",
      "execution_count": 3,
      "metadata": {
        "colab": {
          "base_uri": "https://localhost:8080/"
        },
        "id": "0ycOSAkMcIOX",
        "outputId": "40681432-b67f-409c-c6e5-f3fd3cf64254"
      },
      "outputs": [
        {
          "name": "stdout",
          "output_type": "stream",
          "text": [
            "Downloading data from https://storage.googleapis.com/tensorflow/tf-keras-datasets/imdb_word_index.json\n",
            "\u001b[1m1641221/1641221\u001b[0m \u001b[32m━━━━━━━━━━━━━━━━━━━━\u001b[0m\u001b[37m\u001b[0m \u001b[1m0s\u001b[0m 0us/step\n"
          ]
        }
      ],
      "source": [
        "## Loading the word index\n",
        "\n",
        "word_index = imdb.get_word_index()\n",
        "reverse_word_index = {value : key for key, value in word_index.items()}"
      ]
    },
    {
      "cell_type": "code",
      "execution_count": 3,
      "metadata": {
        "colab": {
          "base_uri": "https://localhost:8080/",
          "height": 278
        },
        "id": "0_-NHPgwcc6Y",
        "outputId": "d96da8ff-9613-4b2d-a0e7-ef3b96e7da0a"
      },
      "outputs": [
        {
          "name": "stderr",
          "output_type": "stream",
          "text": [
            "WARNING:absl:Compiled the loaded model, but the compiled metrics have yet to be built. `model.compile_metrics` will be empty until you train or evaluate the model.\n"
          ]
        },
        {
          "data": {
            "text/html": [
              "<pre style=\"white-space:pre;overflow-x:auto;line-height:normal;font-family:Menlo,'DejaVu Sans Mono',consolas,'Courier New',monospace\"><span style=\"font-weight: bold\">Model: \"sequential\"</span>\n",
              "</pre>\n"
            ],
            "text/plain": [
              "\u001b[1mModel: \"sequential\"\u001b[0m\n"
            ]
          },
          "metadata": {},
          "output_type": "display_data"
        },
        {
          "data": {
            "text/html": [
              "<pre style=\"white-space:pre;overflow-x:auto;line-height:normal;font-family:Menlo,'DejaVu Sans Mono',consolas,'Courier New',monospace\">┏━━━━━━━━━━━━━━━━━━━━━━━━━━━━━━━━━┳━━━━━━━━━━━━━━━━━━━━━━━━┳━━━━━━━━━━━━━━━┓\n",
              "┃<span style=\"font-weight: bold\"> Layer (type)                    </span>┃<span style=\"font-weight: bold\"> Output Shape           </span>┃<span style=\"font-weight: bold\">       Param # </span>┃\n",
              "┡━━━━━━━━━━━━━━━━━━━━━━━━━━━━━━━━━╇━━━━━━━━━━━━━━━━━━━━━━━━╇━━━━━━━━━━━━━━━┩\n",
              "│ embedding (<span style=\"color: #0087ff; text-decoration-color: #0087ff\">Embedding</span>)           │ (<span style=\"color: #00d7ff; text-decoration-color: #00d7ff\">None</span>, <span style=\"color: #00af00; text-decoration-color: #00af00\">500</span>, <span style=\"color: #00af00; text-decoration-color: #00af00\">128</span>)       │     <span style=\"color: #00af00; text-decoration-color: #00af00\">1,280,000</span> │\n",
              "├─────────────────────────────────┼────────────────────────┼───────────────┤\n",
              "│ simple_rnn (<span style=\"color: #0087ff; text-decoration-color: #0087ff\">SimpleRNN</span>)          │ (<span style=\"color: #00d7ff; text-decoration-color: #00d7ff\">None</span>, <span style=\"color: #00af00; text-decoration-color: #00af00\">128</span>)            │        <span style=\"color: #00af00; text-decoration-color: #00af00\">32,896</span> │\n",
              "├─────────────────────────────────┼────────────────────────┼───────────────┤\n",
              "│ dense (<span style=\"color: #0087ff; text-decoration-color: #0087ff\">Dense</span>)                   │ (<span style=\"color: #00d7ff; text-decoration-color: #00d7ff\">None</span>, <span style=\"color: #00af00; text-decoration-color: #00af00\">1</span>)              │           <span style=\"color: #00af00; text-decoration-color: #00af00\">129</span> │\n",
              "└─────────────────────────────────┴────────────────────────┴───────────────┘\n",
              "</pre>\n"
            ],
            "text/plain": [
              "┏━━━━━━━━━━━━━━━━━━━━━━━━━━━━━━━━━┳━━━━━━━━━━━━━━━━━━━━━━━━┳━━━━━━━━━━━━━━━┓\n",
              "┃\u001b[1m \u001b[0m\u001b[1mLayer (type)                   \u001b[0m\u001b[1m \u001b[0m┃\u001b[1m \u001b[0m\u001b[1mOutput Shape          \u001b[0m\u001b[1m \u001b[0m┃\u001b[1m \u001b[0m\u001b[1m      Param #\u001b[0m\u001b[1m \u001b[0m┃\n",
              "┡━━━━━━━━━━━━━━━━━━━━━━━━━━━━━━━━━╇━━━━━━━━━━━━━━━━━━━━━━━━╇━━━━━━━━━━━━━━━┩\n",
              "│ embedding (\u001b[38;5;33mEmbedding\u001b[0m)           │ (\u001b[38;5;45mNone\u001b[0m, \u001b[38;5;34m500\u001b[0m, \u001b[38;5;34m128\u001b[0m)       │     \u001b[38;5;34m1,280,000\u001b[0m │\n",
              "├─────────────────────────────────┼────────────────────────┼───────────────┤\n",
              "│ simple_rnn (\u001b[38;5;33mSimpleRNN\u001b[0m)          │ (\u001b[38;5;45mNone\u001b[0m, \u001b[38;5;34m128\u001b[0m)            │        \u001b[38;5;34m32,896\u001b[0m │\n",
              "├─────────────────────────────────┼────────────────────────┼───────────────┤\n",
              "│ dense (\u001b[38;5;33mDense\u001b[0m)                   │ (\u001b[38;5;45mNone\u001b[0m, \u001b[38;5;34m1\u001b[0m)              │           \u001b[38;5;34m129\u001b[0m │\n",
              "└─────────────────────────────────┴────────────────────────┴───────────────┘\n"
            ]
          },
          "metadata": {},
          "output_type": "display_data"
        },
        {
          "data": {
            "text/html": [
              "<pre style=\"white-space:pre;overflow-x:auto;line-height:normal;font-family:Menlo,'DejaVu Sans Mono',consolas,'Courier New',monospace\"><span style=\"font-weight: bold\"> Total params: </span><span style=\"color: #00af00; text-decoration-color: #00af00\">1,313,027</span> (5.01 MB)\n",
              "</pre>\n"
            ],
            "text/plain": [
              "\u001b[1m Total params: \u001b[0m\u001b[38;5;34m1,313,027\u001b[0m (5.01 MB)\n"
            ]
          },
          "metadata": {},
          "output_type": "display_data"
        },
        {
          "data": {
            "text/html": [
              "<pre style=\"white-space:pre;overflow-x:auto;line-height:normal;font-family:Menlo,'DejaVu Sans Mono',consolas,'Courier New',monospace\"><span style=\"font-weight: bold\"> Trainable params: </span><span style=\"color: #00af00; text-decoration-color: #00af00\">1,313,025</span> (5.01 MB)\n",
              "</pre>\n"
            ],
            "text/plain": [
              "\u001b[1m Trainable params: \u001b[0m\u001b[38;5;34m1,313,025\u001b[0m (5.01 MB)\n"
            ]
          },
          "metadata": {},
          "output_type": "display_data"
        },
        {
          "data": {
            "text/html": [
              "<pre style=\"white-space:pre;overflow-x:auto;line-height:normal;font-family:Menlo,'DejaVu Sans Mono',consolas,'Courier New',monospace\"><span style=\"font-weight: bold\"> Non-trainable params: </span><span style=\"color: #00af00; text-decoration-color: #00af00\">0</span> (0.00 B)\n",
              "</pre>\n"
            ],
            "text/plain": [
              "\u001b[1m Non-trainable params: \u001b[0m\u001b[38;5;34m0\u001b[0m (0.00 B)\n"
            ]
          },
          "metadata": {},
          "output_type": "display_data"
        },
        {
          "data": {
            "text/html": [
              "<pre style=\"white-space:pre;overflow-x:auto;line-height:normal;font-family:Menlo,'DejaVu Sans Mono',consolas,'Courier New',monospace\"><span style=\"font-weight: bold\"> Optimizer params: </span><span style=\"color: #00af00; text-decoration-color: #00af00\">2</span> (12.00 B)\n",
              "</pre>\n"
            ],
            "text/plain": [
              "\u001b[1m Optimizer params: \u001b[0m\u001b[38;5;34m2\u001b[0m (12.00 B)\n"
            ]
          },
          "metadata": {},
          "output_type": "display_data"
        }
      ],
      "source": [
        "## Loading the model\n",
        "\n",
        "model = load_model('Models/model.h5')\n",
        "model.summary()"
      ]
    },
    {
      "cell_type": "code",
      "execution_count": 5,
      "metadata": {
        "colab": {
          "base_uri": "https://localhost:8080/"
        },
        "id": "BYm7RN4EcpBc",
        "outputId": "be0ce336-ad0c-47d7-8f8b-5efa669c5a7f"
      },
      "outputs": [
        {
          "data": {
            "text/plain": [
              "[array([[ 1.10581452e-02,  5.17820604e-02,  2.89600994e-02, ...,\n",
              "         -6.94150999e-02,  5.95521852e-02,  2.52886722e-03],\n",
              "        [ 3.76386307e-02, -2.40575541e-02,  4.79643941e-02, ...,\n",
              "         -1.88887678e-02,  4.27759588e-02,  1.23678465e-05],\n",
              "        [-7.48506263e-02,  1.53115541e-02, -1.32946968e-02, ...,\n",
              "          9.90661513e-03, -4.31070440e-02,  1.37591539e-02],\n",
              "        ...,\n",
              "        [ 9.06202570e-02,  8.01252946e-02,  1.24174664e-02, ...,\n",
              "          9.11699235e-03,  9.64123681e-02,  5.03675034e-03],\n",
              "        [ 7.16844294e-03, -4.10916768e-02, -8.70857015e-02, ...,\n",
              "          6.75699711e-02, -8.99179950e-02, -9.23106521e-02],\n",
              "        [-6.57029264e-03, -2.32627857e-02,  1.62671087e-04, ...,\n",
              "         -4.28786874e-02,  2.55395891e-03,  3.92732024e-02]], dtype=float32),\n",
              " array([[ 0.07343403,  0.15974247, -0.07190289, ...,  0.06715029,\n",
              "          0.00845564, -0.09563589],\n",
              "        [ 0.01743408,  0.0154024 , -0.11454318, ...,  0.12540177,\n",
              "         -0.0034007 , -0.04174453],\n",
              "        [ 0.05856734, -0.03259438, -0.12662153, ..., -0.12005362,\n",
              "         -0.12249582,  0.11060742],\n",
              "        ...,\n",
              "        [-0.04957259, -0.0843549 , -0.04755189, ...,  0.04054083,\n",
              "          0.14093363, -0.00785079],\n",
              "        [-0.06969982,  0.09050775, -0.07054187, ..., -0.08865504,\n",
              "          0.01779401,  0.03343013],\n",
              "        [-0.10276916, -0.10369118,  0.04469299, ..., -0.04855367,\n",
              "          0.1437151 ,  0.10956101]], dtype=float32),\n",
              " array([[-0.15044317,  0.01417822, -0.04100322, ...,  0.03198467,\n",
              "          0.0916403 ,  0.11779734],\n",
              "        [-0.05475837, -0.01909329, -0.03066783, ..., -0.1561981 ,\n",
              "          0.07892494, -0.06299409],\n",
              "        [ 0.10382726, -0.02119006,  0.5716801 , ..., -0.07990384,\n",
              "          0.08484183,  0.06857956],\n",
              "        ...,\n",
              "        [-0.04659724, -0.11504015,  0.15077443, ...,  0.04730257,\n",
              "          0.1601636 , -0.05285235],\n",
              "        [-0.01385002,  0.09957786,  0.02669779, ...,  0.01201705,\n",
              "         -0.08918702, -0.01784786],\n",
              "        [ 0.00265647, -0.08373842, -0.0988494 , ...,  0.07778019,\n",
              "         -0.06992068,  0.17150554]], dtype=float32),\n",
              " array([-0.01292553, -0.02211371, -0.00786705,  0.00921709,  0.00971493,\n",
              "        -0.00867359, -0.01750833,  0.00039233, -0.00918787, -0.01230416,\n",
              "         0.01522759,  0.01331703,  0.01658992, -0.00818857,  0.01918593,\n",
              "        -0.00316755,  0.00590751,  0.00099523, -0.00876693,  0.00557419,\n",
              "        -0.01146705, -0.01831439, -0.01005742, -0.01887238, -0.00381442,\n",
              "        -0.01044094,  0.0279825 ,  0.01436927,  0.0169914 , -0.01716379,\n",
              "        -0.01830089, -0.00609958, -0.02356587,  0.00373149, -0.01464291,\n",
              "        -0.0115423 ,  0.00301285,  0.00643065, -0.0012359 , -0.00541017,\n",
              "         0.0270193 , -0.00039691, -0.00785586, -0.00323755, -0.0096067 ,\n",
              "        -0.02010941, -0.00454177, -0.01456438,  0.02083656, -0.00903131,\n",
              "         0.00198032,  0.009726  , -0.00450284,  0.00276595,  0.00526387,\n",
              "        -0.02205148,  0.00370781,  0.02374325,  0.00464094, -0.00756987,\n",
              "        -0.00472583,  0.0146865 , -0.00800824,  0.01397165, -0.01949492,\n",
              "        -0.01340008, -0.0059932 , -0.01372258,  0.01690996,  0.00299112,\n",
              "        -0.00305719, -0.007766  ,  0.01016865,  0.0300789 , -0.00938602,\n",
              "         0.00030959,  0.0136205 , -0.02966994, -0.00530352, -0.01649439,\n",
              "        -0.00429591,  0.00966131, -0.01400508, -0.01177836, -0.00486575,\n",
              "         0.0115454 , -0.0137703 , -0.0050921 , -0.01209347, -0.00202093,\n",
              "        -0.02921844,  0.00477888, -0.01986037, -0.01574595,  0.00176376,\n",
              "        -0.0200366 ,  0.00023422, -0.01630912, -0.02142331, -0.02089278,\n",
              "         0.00065448,  0.02846431,  0.00126313, -0.00852263,  0.001014  ,\n",
              "        -0.02928484,  0.00273374,  0.01143075, -0.01158601, -0.01182225,\n",
              "         0.02050721,  0.02327893, -0.01913942,  0.02954037, -0.00227766,\n",
              "        -0.00557041, -0.00763038,  0.02802719,  0.10602529, -0.02328631,\n",
              "        -0.01072593,  0.01403832,  0.02378618,  0.01285482, -0.01467505,\n",
              "         0.02149203, -0.01508241, -0.00101265], dtype=float32),\n",
              " array([[-0.10993836],\n",
              "        [ 0.17272632],\n",
              "        [-0.11752409],\n",
              "        [-0.2029976 ],\n",
              "        [-0.01903167],\n",
              "        [-0.15952736],\n",
              "        [ 0.1438529 ],\n",
              "        [-0.3247425 ],\n",
              "        [ 0.04447027],\n",
              "        [ 0.01272712],\n",
              "        [-0.07483139],\n",
              "        [ 0.49019325],\n",
              "        [-0.17777477],\n",
              "        [-0.00538622],\n",
              "        [-0.03496159],\n",
              "        [ 0.19208567],\n",
              "        [-0.14034766],\n",
              "        [ 0.2085093 ],\n",
              "        [ 0.05115099],\n",
              "        [ 0.15063755],\n",
              "        [ 0.032251  ],\n",
              "        [ 0.21598035],\n",
              "        [ 0.14952433],\n",
              "        [ 0.0593182 ],\n",
              "        [-0.14777943],\n",
              "        [ 0.1915658 ],\n",
              "        [-0.06988253],\n",
              "        [-0.14378314],\n",
              "        [ 0.03342472],\n",
              "        [-0.03448119],\n",
              "        [-0.13261738],\n",
              "        [-0.08075458],\n",
              "        [-0.09912401],\n",
              "        [ 0.15050726],\n",
              "        [ 0.18891259],\n",
              "        [ 0.04891869],\n",
              "        [ 0.02759706],\n",
              "        [-0.07865731],\n",
              "        [ 0.05507505],\n",
              "        [-0.0522836 ],\n",
              "        [-0.12281249],\n",
              "        [-0.1970577 ],\n",
              "        [ 0.22463039],\n",
              "        [-0.20917317],\n",
              "        [ 0.16911428],\n",
              "        [ 0.17671199],\n",
              "        [ 0.18031478],\n",
              "        [-0.2252368 ],\n",
              "        [-0.24937755],\n",
              "        [-0.1405704 ],\n",
              "        [-0.03833613],\n",
              "        [-0.17443742],\n",
              "        [ 0.03643372],\n",
              "        [ 0.02720917],\n",
              "        [ 0.02321425],\n",
              "        [-0.09838263],\n",
              "        [-0.00717405],\n",
              "        [-0.1967694 ],\n",
              "        [ 0.4062229 ],\n",
              "        [ 0.12734665],\n",
              "        [-0.20172289],\n",
              "        [-0.11466099],\n",
              "        [ 0.21904325],\n",
              "        [-0.03103612],\n",
              "        [ 0.0672422 ],\n",
              "        [ 0.17102885],\n",
              "        [-0.04768525],\n",
              "        [ 0.09672335],\n",
              "        [-0.08486822],\n",
              "        [ 0.10515221],\n",
              "        [ 0.1892477 ],\n",
              "        [-0.05852012],\n",
              "        [ 0.54541755],\n",
              "        [ 0.22446287],\n",
              "        [-0.01859904],\n",
              "        [-0.00444372],\n",
              "        [ 0.14747722],\n",
              "        [-0.02402297],\n",
              "        [-0.13023566],\n",
              "        [-0.1021013 ],\n",
              "        [-0.00514177],\n",
              "        [ 0.47542945],\n",
              "        [-0.09894139],\n",
              "        [ 0.19928387],\n",
              "        [ 0.04474284],\n",
              "        [ 0.06741911],\n",
              "        [ 0.38949814],\n",
              "        [-0.1040654 ],\n",
              "        [-0.3175708 ],\n",
              "        [-0.13473746],\n",
              "        [ 0.19070894],\n",
              "        [ 0.23987125],\n",
              "        [ 0.2653885 ],\n",
              "        [ 0.18897629],\n",
              "        [ 0.07903341],\n",
              "        [-0.17348751],\n",
              "        [ 0.16834229],\n",
              "        [ 0.10527576],\n",
              "        [ 0.12208296],\n",
              "        [-0.02944826],\n",
              "        [ 0.18699957],\n",
              "        [-0.20786054],\n",
              "        [ 0.0653327 ],\n",
              "        [-0.16030423],\n",
              "        [-0.07273945],\n",
              "        [ 0.00695221],\n",
              "        [ 0.07747392],\n",
              "        [ 0.05599133],\n",
              "        [ 0.27057952],\n",
              "        [ 0.38594407],\n",
              "        [ 0.19064261],\n",
              "        [-0.10018513],\n",
              "        [-0.06453168],\n",
              "        [-0.17564277],\n",
              "        [ 0.044147  ],\n",
              "        [ 0.16052005],\n",
              "        [-0.00540953],\n",
              "        [-0.14050788],\n",
              "        [ 0.4839221 ],\n",
              "        [-0.14137109],\n",
              "        [ 0.13799103],\n",
              "        [ 0.11035967],\n",
              "        [-0.04652699],\n",
              "        [-0.18486522],\n",
              "        [ 0.21185887],\n",
              "        [-0.12655273],\n",
              "        [ 0.49149668],\n",
              "        [-0.11808618]], dtype=float32),\n",
              " array([0.13393827], dtype=float32)]"
            ]
          },
          "execution_count": 5,
          "metadata": {},
          "output_type": "execute_result"
        }
      ],
      "source": [
        "model.get_weights()"
      ]
    },
    {
      "cell_type": "code",
      "execution_count": 6,
      "metadata": {
        "id": "nlcCr9njcvhz"
      },
      "outputs": [],
      "source": [
        "## Helper function for decoding the review\n",
        "\n",
        "def decode_review(encoded_review) :\n",
        "  return ' '.join({reverse_word_index.get(i - 3, '?') for i in encoded_review})"
      ]
    },
    {
      "cell_type": "code",
      "execution_count": 7,
      "metadata": {
        "id": "KrGE9KLEdHG9"
      },
      "outputs": [],
      "source": [
        "## Helper function to preprocess user input\n",
        "\n",
        "def preprocess_text(text) :\n",
        "  words = text.lower().split()\n",
        "  encoded_review = [word_index.get(word, 2) + 3 for word in words]\n",
        "  padded_review = sequence.pad_sequences([encoded_review], maxlen = 500)\n",
        "  return padded_review"
      ]
    },
    {
      "cell_type": "code",
      "execution_count": 8,
      "metadata": {
        "id": "2b-DL8W1dnZa"
      },
      "outputs": [],
      "source": [
        "## Creating Prediction function\n",
        "\n",
        "def predict_sentiment(review) :\n",
        "  preprocessed_input = preprocess_text(review)\n",
        "  prediction = model.predict(preprocessed_input)\n",
        "\n",
        "  sentiment = 'Positive' if prediction[0][0] > 0.5 else 'Negative'\n",
        "\n",
        "  return sentiment, prediction[0][0]"
      ]
    },
    {
      "cell_type": "code",
      "execution_count": 11,
      "metadata": {
        "colab": {
          "base_uri": "https://localhost:8080/"
        },
        "id": "KT8k-de5eOF7",
        "outputId": "c70a3323-6a25-44d3-f683-73cb769425c6"
      },
      "outputs": [
        {
          "name": "stdout",
          "output_type": "stream",
          "text": [
            "\u001b[1m1/1\u001b[0m \u001b[32m━━━━━━━━━━━━━━━━━━━━\u001b[0m\u001b[37m\u001b[0m \u001b[1m0s\u001b[0m 39ms/step\n",
            "Review : The movie was fantastic! It had everything an engaging story, amazing performances, and stunning visuals.\n",
            "Sentiment : Positive\n",
            "Prediction Score : 0.9662397503852844\n"
          ]
        }
      ],
      "source": [
        "## Example to test the model : Positive\n",
        "\n",
        "example_review = \"The movie was fantastic! It had everything an engaging story, amazing performances, and stunning visuals.\"\n",
        "sentiment, score = predict_sentiment(example_review)\n",
        "\n",
        "print(f'Review : {example_review}')\n",
        "print(f'Sentiment : {sentiment}')\n",
        "print(f'Prediction Score : {score}')"
      ]
    },
    {
      "cell_type": "code",
      "execution_count": 12,
      "metadata": {
        "colab": {
          "base_uri": "https://localhost:8080/"
        },
        "id": "i0Wp0X1ne6Jo",
        "outputId": "0a9db173-baa0-4b7d-f7ca-cf4f7aaf8573"
      },
      "outputs": [
        {
          "name": "stdout",
          "output_type": "stream",
          "text": [
            "\u001b[1m1/1\u001b[0m \u001b[32m━━━━━━━━━━━━━━━━━━━━\u001b[0m\u001b[37m\u001b[0m \u001b[1m0s\u001b[0m 36ms/step\n",
            "Review : The movie was quite disappointing. The story felt predictable and lacked depth, making it hard to stay engaged. While the performances were decent, they couldn’t save the weak script. \n",
            "Sentiment : Negative\n",
            "Prediction Score : 0.12228742986917496\n"
          ]
        }
      ],
      "source": [
        "## Example to test the model : Negative\n",
        "\n",
        "example_review1 = \"The movie was quite disappointing. The story felt predictable and lacked depth, making it hard to stay engaged. While the performances were decent, they couldn’t save the weak script. \"\n",
        "sentiment, score = predict_sentiment(example_review1)\n",
        "\n",
        "print(f'Review : {example_review1}')\n",
        "print(f'Sentiment : {sentiment}')\n",
        "print(f'Prediction Score : {score}')"
      ]
    },
    {
      "cell_type": "code",
      "execution_count": null,
      "metadata": {
        "id": "UQuZHyxifUD3"
      },
      "outputs": [],
      "source": []
    }
  ],
  "metadata": {
    "colab": {
      "provenance": []
    },
    "kernelspec": {
      "display_name": "newenv",
      "language": "python",
      "name": "python3"
    },
    "language_info": {
      "codemirror_mode": {
        "name": "ipython",
        "version": 3
      },
      "file_extension": ".py",
      "mimetype": "text/x-python",
      "name": "python",
      "nbconvert_exporter": "python",
      "pygments_lexer": "ipython3",
      "version": "3.9.21"
    }
  },
  "nbformat": 4,
  "nbformat_minor": 0
}
